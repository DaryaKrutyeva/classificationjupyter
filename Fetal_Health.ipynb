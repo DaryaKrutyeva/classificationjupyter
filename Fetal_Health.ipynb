{
 "cells": [
  {
   "cell_type": "markdown",
   "id": "7302735d",
   "metadata": {},
   "source": [
    "# Predicting fetal health using machine learning\n",
    "\n",
    "This notebook uses Python-based machine learning tools to build a machine learning model capable of predicting whether or not a fetus' health is normal, suspect, or pathological based on their medical attributes.\n",
    "\n",
    "I am going to take the following approach:\n",
    "1. Problem definition\n",
    "2. Data\n",
    "3. Evaluation\n",
    "4. Features\n",
    "5. Modelling\n",
    "6. Experimentation\n",
    "\n",
    "## 1. Problem Definition\n",
    "\n",
    "> Given clinical parameters about a patient, can I determine whether their fetus' health is: Normal,\n",
    "Suspect, \n",
    "or Pathological\n",
    "\n",
    "## 2. Data\n",
    "\n",
    "The data came from a Kaggle dataset  repository.https://www.kaggle.com/andrewmvd/fetal-health-classification\n",
    "\n",
    "\n",
    "21 Attributes\n",
    "\n",
    "baseline value - Baseline Fetal Heart Rate\n",
    "\n",
    "accelerations - Number of accelerations per second\n",
    "\n",
    "fetal_movement - Number of fetal movements per second\n",
    "\n",
    "uterine_contractions - Number of uterine contractions per second\n",
    "\n",
    "light_decelerations - Number of LDs per second\n",
    "\n",
    "severe_decelerations - Number of SDs per second\n",
    "\n",
    "prolongued_decelerations - Number of PDs per second\n",
    "\n",
    "abnormal_short_term_variability - Percentage of time with abnormal short term variability\n",
    "\n",
    "mean_value_of_short_term_variability - Mean value of short term variability\n",
    "\n",
    "percentage_of_time_with_abnormal_long_term_variability - Percentage of time with abnormal long term variability\n",
    "\n",
    "mean_value_of_long_term_variability - Mean value of long term variability\n",
    "\n",
    "histogram_width - Width of the histogram made using all values from a record\n",
    "\n",
    "histogram_min - Histogram minimum value\n",
    "\n",
    "histogram_max - Histogram maximum value\n",
    "\n",
    "histogram_number_of_peaks - Number of peaks in the exam histogram\n",
    "\n",
    "histogram_number_of_zeroes - Number of zeroes in the exam histogram\n",
    "\n",
    "histogram_mode - Hist mode\n",
    "\n",
    "histogram_mean - Hist mean\n",
    "\n",
    "histogram_median - Hist Median\n",
    "\n",
    "histogram_variance - Hist variance\n",
    "\n",
    "histogram_tendency - Histogram trend\n",
    "\n",
    "## 3. Evaluation\n",
    "\n",
    "> Attempt to reach 95% accuracy at predicting whether or not a patient's fetus' health is Normal,\n",
    "Suspect, or\n",
    "Pathological\n",
    "\n",
    "## 4. Features\n",
    "\n",
    "I include information about each of the features in the data.\n",
    "\n",
    "\n",
    "## Preparing the tools\n",
    "I will use Pandas, Seaborn, Matplotlib and NumPy for data analysis and manipulation\n",
    "\n"
   ]
  },
  {
   "cell_type": "code",
   "execution_count": 1,
   "id": "252868d2",
   "metadata": {},
   "outputs": [],
   "source": [
    "#Import all the tools\n",
    "#Regular Exploritory Data Analysis and plotting libraries\n",
    "\n",
    "import pandas as pd\n",
    "import numpy as np\n",
    "import matplotlib.pyplot as plt\n",
    "import seaborn as sns\n",
    "import pickle \n",
    "\n",
    "#to show plots within notebook\n",
    "%matplotlib inline \n",
    "\n",
    "#Models from Scikit-learn\n",
    "from sklearn.linear_model import LogisticRegression\n",
    "from sklearn.neighbors import KNeighborsClassifier\n",
    "from sklearn.ensemble import RandomForestClassifier\n",
    "\n",
    "#Model Evaluations\n",
    "from sklearn.model_selection import train_test_split, cross_val_score\n",
    "from sklearn.model_selection import RandomizedSearchCV, GridSearchCV\n",
    "from sklearn.metrics import confusion_matrix, classification_report\n",
    "from sklearn.metrics import precision_score, recall_score, f1_score\n",
    "from sklearn.metrics import plot_roc_curve\n",
    "\n",
    "import ipywidgets as widgets\n"
   ]
  },
  {
   "cell_type": "code",
   "execution_count": 2,
   "id": "799a86e8",
   "metadata": {},
   "outputs": [],
   "source": [
    "df = pd.read_csv(\"fetal_health.csv\")\n",
    "df_2=df.copy(deep = True)"
   ]
  },
  {
   "cell_type": "markdown",
   "id": "9e95be3d",
   "metadata": {},
   "source": [
    "## Data Exploration (EDA - Exploratory Data Analysis)\n",
    "\n",
    "The goal is to learn more about the data"
   ]
  },
  {
   "cell_type": "code",
   "execution_count": 3,
   "id": "2dbcfb89",
   "metadata": {},
   "outputs": [
    {
     "data": {
      "text/html": [
       "<div>\n",
       "<style scoped>\n",
       "    .dataframe tbody tr th:only-of-type {\n",
       "        vertical-align: middle;\n",
       "    }\n",
       "\n",
       "    .dataframe tbody tr th {\n",
       "        vertical-align: top;\n",
       "    }\n",
       "\n",
       "    .dataframe thead th {\n",
       "        text-align: right;\n",
       "    }\n",
       "</style>\n",
       "<table border=\"1\" class=\"dataframe\">\n",
       "  <thead>\n",
       "    <tr style=\"text-align: right;\">\n",
       "      <th></th>\n",
       "      <th>baseline_value</th>\n",
       "      <th>accelerations</th>\n",
       "      <th>fetal_movement</th>\n",
       "      <th>uterine_contractions</th>\n",
       "      <th>light_decelerations</th>\n",
       "      <th>severe_decelerations</th>\n",
       "      <th>prolongued_decelerations</th>\n",
       "      <th>abnormal_short_term_variability</th>\n",
       "      <th>mean_value_of_short_term_variability</th>\n",
       "      <th>percentage_of_time_with_abnormal_long_term_variability</th>\n",
       "      <th>...</th>\n",
       "      <th>histogram_min</th>\n",
       "      <th>histogram_max</th>\n",
       "      <th>histogram_number_of_peaks</th>\n",
       "      <th>histogram_number_of_zeroes</th>\n",
       "      <th>histogram_mode</th>\n",
       "      <th>histogram_mean</th>\n",
       "      <th>histogram_median</th>\n",
       "      <th>histogram_variance</th>\n",
       "      <th>histogram_tendency</th>\n",
       "      <th>fetal_health</th>\n",
       "    </tr>\n",
       "  </thead>\n",
       "  <tbody>\n",
       "    <tr>\n",
       "      <th>0</th>\n",
       "      <td>120</td>\n",
       "      <td>0.000</td>\n",
       "      <td>0.0</td>\n",
       "      <td>0.000</td>\n",
       "      <td>0.000</td>\n",
       "      <td>0.0</td>\n",
       "      <td>0.0</td>\n",
       "      <td>73</td>\n",
       "      <td>0.5</td>\n",
       "      <td>43</td>\n",
       "      <td>...</td>\n",
       "      <td>62</td>\n",
       "      <td>126</td>\n",
       "      <td>2</td>\n",
       "      <td>0</td>\n",
       "      <td>120</td>\n",
       "      <td>137</td>\n",
       "      <td>121</td>\n",
       "      <td>73</td>\n",
       "      <td>1</td>\n",
       "      <td>2</td>\n",
       "    </tr>\n",
       "    <tr>\n",
       "      <th>1</th>\n",
       "      <td>132</td>\n",
       "      <td>0.006</td>\n",
       "      <td>0.0</td>\n",
       "      <td>0.006</td>\n",
       "      <td>0.003</td>\n",
       "      <td>0.0</td>\n",
       "      <td>0.0</td>\n",
       "      <td>17</td>\n",
       "      <td>2.1</td>\n",
       "      <td>0</td>\n",
       "      <td>...</td>\n",
       "      <td>68</td>\n",
       "      <td>198</td>\n",
       "      <td>6</td>\n",
       "      <td>1</td>\n",
       "      <td>141</td>\n",
       "      <td>136</td>\n",
       "      <td>140</td>\n",
       "      <td>12</td>\n",
       "      <td>0</td>\n",
       "      <td>1</td>\n",
       "    </tr>\n",
       "    <tr>\n",
       "      <th>2</th>\n",
       "      <td>133</td>\n",
       "      <td>0.003</td>\n",
       "      <td>0.0</td>\n",
       "      <td>0.008</td>\n",
       "      <td>0.003</td>\n",
       "      <td>0.0</td>\n",
       "      <td>0.0</td>\n",
       "      <td>16</td>\n",
       "      <td>2.1</td>\n",
       "      <td>0</td>\n",
       "      <td>...</td>\n",
       "      <td>68</td>\n",
       "      <td>198</td>\n",
       "      <td>5</td>\n",
       "      <td>1</td>\n",
       "      <td>141</td>\n",
       "      <td>135</td>\n",
       "      <td>138</td>\n",
       "      <td>13</td>\n",
       "      <td>0</td>\n",
       "      <td>1</td>\n",
       "    </tr>\n",
       "    <tr>\n",
       "      <th>3</th>\n",
       "      <td>134</td>\n",
       "      <td>0.003</td>\n",
       "      <td>0.0</td>\n",
       "      <td>0.008</td>\n",
       "      <td>0.003</td>\n",
       "      <td>0.0</td>\n",
       "      <td>0.0</td>\n",
       "      <td>16</td>\n",
       "      <td>2.4</td>\n",
       "      <td>0</td>\n",
       "      <td>...</td>\n",
       "      <td>53</td>\n",
       "      <td>170</td>\n",
       "      <td>11</td>\n",
       "      <td>0</td>\n",
       "      <td>137</td>\n",
       "      <td>134</td>\n",
       "      <td>137</td>\n",
       "      <td>13</td>\n",
       "      <td>1</td>\n",
       "      <td>1</td>\n",
       "    </tr>\n",
       "    <tr>\n",
       "      <th>4</th>\n",
       "      <td>132</td>\n",
       "      <td>0.007</td>\n",
       "      <td>0.0</td>\n",
       "      <td>0.008</td>\n",
       "      <td>0.000</td>\n",
       "      <td>0.0</td>\n",
       "      <td>0.0</td>\n",
       "      <td>16</td>\n",
       "      <td>2.4</td>\n",
       "      <td>0</td>\n",
       "      <td>...</td>\n",
       "      <td>53</td>\n",
       "      <td>170</td>\n",
       "      <td>9</td>\n",
       "      <td>0</td>\n",
       "      <td>137</td>\n",
       "      <td>136</td>\n",
       "      <td>138</td>\n",
       "      <td>11</td>\n",
       "      <td>1</td>\n",
       "      <td>1</td>\n",
       "    </tr>\n",
       "  </tbody>\n",
       "</table>\n",
       "<p>5 rows × 22 columns</p>\n",
       "</div>"
      ],
      "text/plain": [
       "   baseline_value  accelerations  fetal_movement  uterine_contractions  \\\n",
       "0             120          0.000             0.0                 0.000   \n",
       "1             132          0.006             0.0                 0.006   \n",
       "2             133          0.003             0.0                 0.008   \n",
       "3             134          0.003             0.0                 0.008   \n",
       "4             132          0.007             0.0                 0.008   \n",
       "\n",
       "   light_decelerations  severe_decelerations  prolongued_decelerations  \\\n",
       "0                0.000                   0.0                       0.0   \n",
       "1                0.003                   0.0                       0.0   \n",
       "2                0.003                   0.0                       0.0   \n",
       "3                0.003                   0.0                       0.0   \n",
       "4                0.000                   0.0                       0.0   \n",
       "\n",
       "   abnormal_short_term_variability  mean_value_of_short_term_variability  \\\n",
       "0                               73                                   0.5   \n",
       "1                               17                                   2.1   \n",
       "2                               16                                   2.1   \n",
       "3                               16                                   2.4   \n",
       "4                               16                                   2.4   \n",
       "\n",
       "   percentage_of_time_with_abnormal_long_term_variability  ...  histogram_min  \\\n",
       "0                                                 43       ...             62   \n",
       "1                                                  0       ...             68   \n",
       "2                                                  0       ...             68   \n",
       "3                                                  0       ...             53   \n",
       "4                                                  0       ...             53   \n",
       "\n",
       "   histogram_max  histogram_number_of_peaks  histogram_number_of_zeroes  \\\n",
       "0            126                          2                           0   \n",
       "1            198                          6                           1   \n",
       "2            198                          5                           1   \n",
       "3            170                         11                           0   \n",
       "4            170                          9                           0   \n",
       "\n",
       "   histogram_mode  histogram_mean  histogram_median  histogram_variance  \\\n",
       "0             120             137               121                  73   \n",
       "1             141             136               140                  12   \n",
       "2             141             135               138                  13   \n",
       "3             137             134               137                  13   \n",
       "4             137             136               138                  11   \n",
       "\n",
       "   histogram_tendency  fetal_health  \n",
       "0                   1             2  \n",
       "1                   0             1  \n",
       "2                   0             1  \n",
       "3                   1             1  \n",
       "4                   1             1  \n",
       "\n",
       "[5 rows x 22 columns]"
      ]
     },
     "execution_count": 3,
     "metadata": {},
     "output_type": "execute_result"
    }
   ],
   "source": [
    "df.head()"
   ]
  },
  {
   "cell_type": "code",
   "execution_count": 4,
   "id": "b38a378f",
   "metadata": {},
   "outputs": [
    {
     "data": {
      "text/html": [
       "<div>\n",
       "<style scoped>\n",
       "    .dataframe tbody tr th:only-of-type {\n",
       "        vertical-align: middle;\n",
       "    }\n",
       "\n",
       "    .dataframe tbody tr th {\n",
       "        vertical-align: top;\n",
       "    }\n",
       "\n",
       "    .dataframe thead th {\n",
       "        text-align: right;\n",
       "    }\n",
       "</style>\n",
       "<table border=\"1\" class=\"dataframe\">\n",
       "  <thead>\n",
       "    <tr style=\"text-align: right;\">\n",
       "      <th></th>\n",
       "      <th>baseline_value</th>\n",
       "      <th>accelerations</th>\n",
       "      <th>fetal_movement</th>\n",
       "      <th>uterine_contractions</th>\n",
       "      <th>light_decelerations</th>\n",
       "      <th>severe_decelerations</th>\n",
       "      <th>prolongued_decelerations</th>\n",
       "      <th>abnormal_short_term_variability</th>\n",
       "      <th>mean_value_of_short_term_variability</th>\n",
       "      <th>percentage_of_time_with_abnormal_long_term_variability</th>\n",
       "      <th>...</th>\n",
       "      <th>histogram_min</th>\n",
       "      <th>histogram_max</th>\n",
       "      <th>histogram_number_of_peaks</th>\n",
       "      <th>histogram_number_of_zeroes</th>\n",
       "      <th>histogram_mode</th>\n",
       "      <th>histogram_mean</th>\n",
       "      <th>histogram_median</th>\n",
       "      <th>histogram_variance</th>\n",
       "      <th>histogram_tendency</th>\n",
       "      <th>fetal_health</th>\n",
       "    </tr>\n",
       "  </thead>\n",
       "  <tbody>\n",
       "    <tr>\n",
       "      <th>2121</th>\n",
       "      <td>140</td>\n",
       "      <td>0.000</td>\n",
       "      <td>0.000</td>\n",
       "      <td>0.007</td>\n",
       "      <td>0.0</td>\n",
       "      <td>0.0</td>\n",
       "      <td>0.0</td>\n",
       "      <td>79</td>\n",
       "      <td>0.2</td>\n",
       "      <td>25</td>\n",
       "      <td>...</td>\n",
       "      <td>137</td>\n",
       "      <td>177</td>\n",
       "      <td>4</td>\n",
       "      <td>0</td>\n",
       "      <td>153</td>\n",
       "      <td>150</td>\n",
       "      <td>152</td>\n",
       "      <td>2</td>\n",
       "      <td>0</td>\n",
       "      <td>2</td>\n",
       "    </tr>\n",
       "    <tr>\n",
       "      <th>2122</th>\n",
       "      <td>140</td>\n",
       "      <td>0.001</td>\n",
       "      <td>0.000</td>\n",
       "      <td>0.007</td>\n",
       "      <td>0.0</td>\n",
       "      <td>0.0</td>\n",
       "      <td>0.0</td>\n",
       "      <td>78</td>\n",
       "      <td>0.4</td>\n",
       "      <td>22</td>\n",
       "      <td>...</td>\n",
       "      <td>103</td>\n",
       "      <td>169</td>\n",
       "      <td>6</td>\n",
       "      <td>0</td>\n",
       "      <td>152</td>\n",
       "      <td>148</td>\n",
       "      <td>151</td>\n",
       "      <td>3</td>\n",
       "      <td>1</td>\n",
       "      <td>2</td>\n",
       "    </tr>\n",
       "    <tr>\n",
       "      <th>2123</th>\n",
       "      <td>140</td>\n",
       "      <td>0.001</td>\n",
       "      <td>0.000</td>\n",
       "      <td>0.007</td>\n",
       "      <td>0.0</td>\n",
       "      <td>0.0</td>\n",
       "      <td>0.0</td>\n",
       "      <td>79</td>\n",
       "      <td>0.4</td>\n",
       "      <td>20</td>\n",
       "      <td>...</td>\n",
       "      <td>103</td>\n",
       "      <td>170</td>\n",
       "      <td>5</td>\n",
       "      <td>0</td>\n",
       "      <td>153</td>\n",
       "      <td>148</td>\n",
       "      <td>152</td>\n",
       "      <td>4</td>\n",
       "      <td>1</td>\n",
       "      <td>2</td>\n",
       "    </tr>\n",
       "    <tr>\n",
       "      <th>2124</th>\n",
       "      <td>140</td>\n",
       "      <td>0.001</td>\n",
       "      <td>0.000</td>\n",
       "      <td>0.006</td>\n",
       "      <td>0.0</td>\n",
       "      <td>0.0</td>\n",
       "      <td>0.0</td>\n",
       "      <td>78</td>\n",
       "      <td>0.4</td>\n",
       "      <td>27</td>\n",
       "      <td>...</td>\n",
       "      <td>103</td>\n",
       "      <td>169</td>\n",
       "      <td>6</td>\n",
       "      <td>0</td>\n",
       "      <td>152</td>\n",
       "      <td>147</td>\n",
       "      <td>151</td>\n",
       "      <td>4</td>\n",
       "      <td>1</td>\n",
       "      <td>2</td>\n",
       "    </tr>\n",
       "    <tr>\n",
       "      <th>2125</th>\n",
       "      <td>142</td>\n",
       "      <td>0.002</td>\n",
       "      <td>0.002</td>\n",
       "      <td>0.008</td>\n",
       "      <td>0.0</td>\n",
       "      <td>0.0</td>\n",
       "      <td>0.0</td>\n",
       "      <td>74</td>\n",
       "      <td>0.4</td>\n",
       "      <td>36</td>\n",
       "      <td>...</td>\n",
       "      <td>117</td>\n",
       "      <td>159</td>\n",
       "      <td>2</td>\n",
       "      <td>1</td>\n",
       "      <td>145</td>\n",
       "      <td>143</td>\n",
       "      <td>145</td>\n",
       "      <td>1</td>\n",
       "      <td>0</td>\n",
       "      <td>1</td>\n",
       "    </tr>\n",
       "  </tbody>\n",
       "</table>\n",
       "<p>5 rows × 22 columns</p>\n",
       "</div>"
      ],
      "text/plain": [
       "      baseline_value  accelerations  fetal_movement  uterine_contractions  \\\n",
       "2121             140          0.000           0.000                 0.007   \n",
       "2122             140          0.001           0.000                 0.007   \n",
       "2123             140          0.001           0.000                 0.007   \n",
       "2124             140          0.001           0.000                 0.006   \n",
       "2125             142          0.002           0.002                 0.008   \n",
       "\n",
       "      light_decelerations  severe_decelerations  prolongued_decelerations  \\\n",
       "2121                  0.0                   0.0                       0.0   \n",
       "2122                  0.0                   0.0                       0.0   \n",
       "2123                  0.0                   0.0                       0.0   \n",
       "2124                  0.0                   0.0                       0.0   \n",
       "2125                  0.0                   0.0                       0.0   \n",
       "\n",
       "      abnormal_short_term_variability  mean_value_of_short_term_variability  \\\n",
       "2121                               79                                   0.2   \n",
       "2122                               78                                   0.4   \n",
       "2123                               79                                   0.4   \n",
       "2124                               78                                   0.4   \n",
       "2125                               74                                   0.4   \n",
       "\n",
       "      percentage_of_time_with_abnormal_long_term_variability  ...  \\\n",
       "2121                                                 25       ...   \n",
       "2122                                                 22       ...   \n",
       "2123                                                 20       ...   \n",
       "2124                                                 27       ...   \n",
       "2125                                                 36       ...   \n",
       "\n",
       "      histogram_min  histogram_max  histogram_number_of_peaks  \\\n",
       "2121            137            177                          4   \n",
       "2122            103            169                          6   \n",
       "2123            103            170                          5   \n",
       "2124            103            169                          6   \n",
       "2125            117            159                          2   \n",
       "\n",
       "      histogram_number_of_zeroes  histogram_mode  histogram_mean  \\\n",
       "2121                           0             153             150   \n",
       "2122                           0             152             148   \n",
       "2123                           0             153             148   \n",
       "2124                           0             152             147   \n",
       "2125                           1             145             143   \n",
       "\n",
       "      histogram_median  histogram_variance  histogram_tendency  fetal_health  \n",
       "2121               152                   2                   0             2  \n",
       "2122               151                   3                   1             2  \n",
       "2123               152                   4                   1             2  \n",
       "2124               151                   4                   1             2  \n",
       "2125               145                   1                   0             1  \n",
       "\n",
       "[5 rows x 22 columns]"
      ]
     },
     "execution_count": 4,
     "metadata": {},
     "output_type": "execute_result"
    }
   ],
   "source": [
    "df.tail()\n"
   ]
  },
  {
   "cell_type": "markdown",
   "id": "a3cc3609",
   "metadata": {},
   "source": [
    "## How many of each class there are"
   ]
  },
  {
   "cell_type": "code",
   "execution_count": 46,
   "id": "e133542b",
   "metadata": {},
   "outputs": [
    {
     "data": {
      "application/vnd.jupyter.widget-view+json": {
       "model_id": "3ed25e17ede94044b70397b884b4dab8",
       "version_major": 2,
       "version_minor": 0
      },
      "image/png": "[encoded data removed]",
      "text/html": [
       "\n",
       "            <div style=\"display: inline-block;\">\n",
       "                <div class=\"jupyter-widgets widget-label\" style=\"text-align: center;\">\n",
       "                    Figure\n",
       "                </div>\n",
       "                <img src='data:image/png;base64,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' width=432.0/>\n",
       "            </div>\n",
       "        "
      ],
      "text/plain": [
       "Canvas(toolbar=Toolbar(toolitems=[('Home', 'Reset original view', 'home', 'home'), ('Back', 'Back to previous …"
      ]
     },
     "metadata": {},
     "output_type": "display_data"
    }
   ],
   "source": [
    "%matplotlib widget\n",
    "df[\"fetal_health\"].value_counts().plot(kind=\"bar\");"
   ]
  },
  {
   "cell_type": "markdown",
   "id": "f15973e2",
   "metadata": {},
   "source": [
    "## Clean up data by checking for missing values"
   ]
  },
  {
   "cell_type": "code",
   "execution_count": 6,
   "id": "3e34e3d9",
   "metadata": {},
   "outputs": [
    {
     "data": {
      "text/plain": [
       "baseline_value                                            0\n",
       "accelerations                                             0\n",
       "fetal_movement                                            0\n",
       "uterine_contractions                                      0\n",
       "light_decelerations                                       0\n",
       "severe_decelerations                                      0\n",
       "prolongued_decelerations                                  0\n",
       "abnormal_short_term_variability                           0\n",
       "mean_value_of_short_term_variability                      0\n",
       "percentage_of_time_with_abnormal_long_term_variability    0\n",
       "mean_value_of_long_term_variability                       0\n",
       "histogram_width                                           0\n",
       "histogram_min                                             0\n",
       "histogram_max                                             0\n",
       "histogram_number_of_peaks                                 0\n",
       "histogram_number_of_zeroes                                0\n",
       "histogram_mode                                            0\n",
       "histogram_mean                                            0\n",
       "histogram_median                                          0\n",
       "histogram_variance                                        0\n",
       "histogram_tendency                                        0\n",
       "fetal_health                                              0\n",
       "dtype: int64"
      ]
     },
     "execution_count": 6,
     "metadata": {},
     "output_type": "execute_result"
    }
   ],
   "source": [
    "#missing values\n",
    "df.isna().sum()"
   ]
  },
  {
   "cell_type": "markdown",
   "id": "695472eb",
   "metadata": {},
   "source": [
    "#### There are no missing values."
   ]
  },
  {
   "cell_type": "markdown",
   "id": "822ffdc8",
   "metadata": {},
   "source": [
    "## Correlation matrix\n",
    "Summarize data and display the relationships between each variable"
   ]
  },
  {
   "cell_type": "code",
   "execution_count": null,
   "id": "cc970cae",
   "metadata": {},
   "outputs": [],
   "source": [
    "#correlation matrix heat map\n",
    "%matplotlib widget\n",
    "corr_matrix = df.corr()\n",
    "fix, ax = plt.subplots(figsize = (20,10))\n",
    "zx = sns.heatmap(corr_matrix, annot = True, linewidths = 0.5, fmt = \".2f\");\n",
    "bottom, top = ax.get_ylim()\n"
   ]
  },
  {
   "cell_type": "markdown",
   "id": "aaf1153f",
   "metadata": {},
   "source": [
    "## Histogram\n",
    "To graphically summarize data distributions for each variable"
   ]
  },
  {
   "cell_type": "code",
   "execution_count": 8,
   "id": "18466e4f",
   "metadata": {},
   "outputs": [
    {
     "data": {
      "image/png": "[encoded data removed]",
      "text/plain": [
       "<Figure size 2880x2160 with 25 Axes>"
      ]
     },
     "metadata": {
      "needs_background": "light"
     },
     "output_type": "display_data"
    }
   ],
   "source": [
    "%matplotlib inline\n",
    "p = df.hist(figsize=(40,30), color='r')\n"
   ]
  },
  {
   "cell_type": "code",
   "execution_count": null,
   "id": "490e80e0",
   "metadata": {},
   "outputs": [],
   "source": []
  },
  {
   "cell_type": "markdown",
   "id": "a316b7aa",
   "metadata": {},
   "source": [
    "# Modeling"
   ]
  },
  {
   "cell_type": "markdown",
   "id": "84d0a48a",
   "metadata": {},
   "source": [
    "Split data into X and y"
   ]
  },
  {
   "cell_type": "code",
   "execution_count": 9,
   "id": "df9dd2b7",
   "metadata": {},
   "outputs": [],
   "source": [
    "X = df.drop(\"fetal_health\", axis = 1)\n",
    "y = df[\"fetal_health\"]"
   ]
  },
  {
   "cell_type": "code",
   "execution_count": 10,
   "id": "b1b7d13a",
   "metadata": {},
   "outputs": [],
   "source": [
    "#split data into train and test sets\n",
    "np.random.seed(50)\n",
    "\n",
    "# Split into train and test set\n",
    "x_train, x_test, y_train, y_test = train_test_split(X, y, test_size = 0.2)"
   ]
  },
  {
   "cell_type": "code",
   "execution_count": 11,
   "id": "1dc2b42f",
   "metadata": {},
   "outputs": [
    {
     "data": {
      "text/plain": [
       "(105     1\n",
       " 760     1\n",
       " 1566    1\n",
       " 666     2\n",
       " 925     1\n",
       "        ..\n",
       " 132     1\n",
       " 2014    1\n",
       " 1931    1\n",
       " 1504    1\n",
       " 1712    1\n",
       " Name: fetal_health, Length: 1700, dtype: int64,\n",
       " 1700)"
      ]
     },
     "execution_count": 11,
     "metadata": {},
     "output_type": "execute_result"
    }
   ],
   "source": [
    "y_train, len(y_train)\n"
   ]
  },
  {
   "cell_type": "markdown",
   "id": "7335cf97",
   "metadata": {},
   "source": [
    "# Test different models to check for accuracy"
   ]
  },
  {
   "cell_type": "code",
   "execution_count": 12,
   "id": "32973aa3",
   "metadata": {},
   "outputs": [],
   "source": [
    "# Put models in a dictionary\n",
    "models = {\"Logistic Regression\": LogisticRegression(),\n",
    "         \"KNN\": KNeighborsClassifier(),\n",
    "         \"Random Forest\": RandomForestClassifier()}\n",
    "\n",
    "#Create a function to fit and socre models\n",
    "def fit_score (models, x_train, x_test, y_train, y_test):\n",
    "    \"\"\" \n",
    "    Fits and evaluates machine learning models.\n",
    "    models: dictionary of different machine learning models\n",
    "    x_train: training data\n",
    "    x_test: testing data\n",
    "    y_train: training labels\n",
    "    y_test: test labels\n",
    "    \"\"\"\n",
    "    \n",
    "    #set seed\n",
    "    np.random.seed(50)\n",
    "    \n",
    "    #list to make a dictionary to keep model scores\n",
    "    model_scores = {}\n",
    "    #loop though models\n",
    "    for name, model in models.items():\n",
    "        #fit model to data\n",
    "        model.fit(x_train, y_train)\n",
    "        #evaluate model and append score to model_scores\n",
    "        model_scores[name] = model.score(x_test, y_test)\n",
    "    return model_scores\n"
   ]
  },
  {
   "cell_type": "code",
   "execution_count": 13,
   "id": "92ecda8f",
   "metadata": {},
   "outputs": [
    {
     "name": "stderr",
     "output_type": "stream",
     "text": [
      "C:\\Users\\Darya\\Desktop\\classification_project\\env\\lib\\site-packages\\sklearn\\linear_model\\_logistic.py:814: ConvergenceWarning: lbfgs failed to converge (status=1):\n",
      "STOP: TOTAL NO. of ITERATIONS REACHED LIMIT.\n",
      "\n",
      "Increase the number of iterations (max_iter) or scale the data as shown in:\n",
      "    https://scikit-learn.org/stable/modules/preprocessing.html\n",
      "Please also refer to the documentation for alternative solver options:\n",
      "    https://scikit-learn.org/stable/modules/linear_model.html#logistic-regression\n",
      "  n_iter_i = _check_optimize_result(\n"
     ]
    },
    {
     "data": {
      "text/plain": [
       "{'Logistic Regression': 0.8826291079812206,\n",
       " 'KNN': 0.9131455399061033,\n",
       " 'Random Forest': 0.9460093896713615}"
      ]
     },
     "execution_count": 13,
     "metadata": {},
     "output_type": "execute_result"
    }
   ],
   "source": [
    "model_scores = fit_score(models = models, \n",
    "                        x_train = x_train,\n",
    "                        x_test = x_test,\n",
    "                        y_train = y_train,\n",
    "                        y_test = y_test)\n",
    "model_scores\n"
   ]
  },
  {
   "cell_type": "markdown",
   "id": "7999d548",
   "metadata": {},
   "source": [
    "Looks like random forest classifier is the best fit"
   ]
  },
  {
   "cell_type": "markdown",
   "id": "b1df1004",
   "metadata": {},
   "source": [
    "Bar graph to compare models"
   ]
  },
  {
   "cell_type": "code",
   "execution_count": null,
   "id": "9edfda27",
   "metadata": {},
   "outputs": [],
   "source": [
    "%matplotlib widget\n",
    "model_compare = pd.DataFrame(model_scores, index = [\"accuracy\"])\n",
    "model_compare.T.plot.bar();"
   ]
  },
  {
   "cell_type": "markdown",
   "id": "55f6d790",
   "metadata": {},
   "source": [
    "# Tuning Model"
   ]
  },
  {
   "cell_type": "code",
   "execution_count": 15,
   "id": "2cd8dbff",
   "metadata": {},
   "outputs": [],
   "source": [
    "#tuning KNN\n",
    "train_scores = []\n",
    "test_scores = []\n",
    "\n",
    "#list of different values for n_neighbors\n",
    "neighbors = range (1, 20)\n",
    "\n",
    "#set up instance\n",
    "knn = KNeighborsClassifier()\n",
    "\n",
    "#loop through n_neighbors\n",
    "for i in neighbors:\n",
    "    knn.set_params(n_neighbors = i)\n",
    "    \n",
    "    #fit the algorithm\n",
    "    knn.fit(x_train, y_train)\n",
    "    \n",
    "    #update train list\n",
    "    train_scores.append(knn.score(x_train, y_train))\n",
    "    \n",
    "    #update test scores list\n",
    "    test_scores.append(knn.score(x_test, y_test))\n",
    "    \n"
   ]
  },
  {
   "cell_type": "code",
   "execution_count": 16,
   "id": "e25ee566",
   "metadata": {},
   "outputs": [
    {
     "data": {
      "text/plain": [
       "[0.9988235294117647,\n",
       " 0.9358823529411765,\n",
       " 0.9370588235294117,\n",
       " 0.9170588235294118,\n",
       " 0.9205882352941176,\n",
       " 0.908235294117647,\n",
       " 0.91,\n",
       " 0.9047058823529411,\n",
       " 0.9035294117647059,\n",
       " 0.8976470588235295,\n",
       " 0.9,\n",
       " 0.89,\n",
       " 0.8935294117647059,\n",
       " 0.8870588235294118,\n",
       " 0.8870588235294118,\n",
       " 0.8829411764705882,\n",
       " 0.8870588235294118,\n",
       " 0.8835294117647059,\n",
       " 0.8852941176470588]"
      ]
     },
     "execution_count": 16,
     "metadata": {},
     "output_type": "execute_result"
    }
   ],
   "source": [
    "train_scores"
   ]
  },
  {
   "cell_type": "code",
   "execution_count": 17,
   "id": "8ffa347c",
   "metadata": {},
   "outputs": [
    {
     "data": {
      "text/plain": [
       "[0.9178403755868545,\n",
       " 0.92018779342723,\n",
       " 0.9178403755868545,\n",
       " 0.9154929577464789,\n",
       " 0.9131455399061033,\n",
       " 0.9131455399061033,\n",
       " 0.9225352112676056,\n",
       " 0.9014084507042254,\n",
       " 0.8943661971830986,\n",
       " 0.8990610328638498,\n",
       " 0.8990610328638498,\n",
       " 0.8943661971830986,\n",
       " 0.8967136150234741,\n",
       " 0.8967136150234741,\n",
       " 0.8943661971830986,\n",
       " 0.8943661971830986,\n",
       " 0.8943661971830986,\n",
       " 0.8967136150234741,\n",
       " 0.8873239436619719]"
      ]
     },
     "execution_count": 17,
     "metadata": {},
     "output_type": "execute_result"
    }
   ],
   "source": [
    "test_scores"
   ]
  },
  {
   "cell_type": "markdown",
   "id": "dbbdce2e",
   "metadata": {},
   "source": [
    "### Visualize number of neighbors for best accuracy"
   ]
  },
  {
   "cell_type": "code",
   "execution_count": 45,
   "id": "1ceb71a2",
   "metadata": {},
   "outputs": [
    {
     "name": "stdout",
     "output_type": "stream",
     "text": [
      "Maximum KNN score on the test data: 92.25%\n"
     ]
    },
    {
     "data": {
      "application/vnd.jupyter.widget-view+json": {
       "model_id": "6f96fb7411614615b61365d684c7d8a2",
       "version_major": 2,
       "version_minor": 0
      },
      "image/png": "[encoded data removed]",
      "text/html": [
       "\n",
       "            <div style=\"display: inline-block;\">\n",
       "                <div class=\"jupyter-widgets widget-label\" style=\"text-align: center;\">\n",
       "                    Figure\n",
       "                </div>\n",
       "                <img src='data:image/png;base64,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' width=800.0/>\n",
       "            </div>\n",
       "        "
      ],
      "text/plain": [
       "Canvas(toolbar=Toolbar(toolitems=[('Home', 'Reset original view', 'home', 'home'), ('Back', 'Back to previous …"
      ]
     },
     "metadata": {},
     "output_type": "display_data"
    }
   ],
   "source": [
    "%matplotlib widget\n",
    "from matplotlib.pyplot import figure\n",
    "figure(figsize=(10, 3), dpi=80)\n",
    "plt.plot(neighbors, train_scores, label = \"Train score\")\n",
    "plt.plot(neighbors, test_scores, label = \"Test score\")\n",
    "plt.xticks(np.arange(1, 20,  1))\n",
    "plt.xlabel(\"Number of neighbors\")\n",
    "plt.ylabel(\"Model score\")\n",
    "plt.legend()\n",
    "\n",
    "\n",
    "print(f\"Maximum KNN score on the test data: {max(test_scores) *100:.2f}%\")"
   ]
  },
  {
   "cell_type": "code",
   "execution_count": null,
   "id": "ec7e9156",
   "metadata": {},
   "outputs": [],
   "source": []
  },
  {
   "cell_type": "markdown",
   "id": "6486c70d",
   "metadata": {},
   "source": [
    "## Hyperparameter runing with RandomizedSearch CV"
   ]
  },
  {
   "cell_type": "code",
   "execution_count": 19,
   "id": "e98b69bc",
   "metadata": {},
   "outputs": [],
   "source": [
    "#create hyperparameter grid for random forest\n",
    "rf_grid = {\"n_estimators\":np.arange(10, 1000, 50),\n",
    "          \"max_depth\": [None, 3, 5, 10],\n",
    "          \"min_samples_split\": np.arange(2, 20, 2),\n",
    "          \"min_samples_leaf\": np.arange(1, 20, 2)}"
   ]
  },
  {
   "cell_type": "code",
   "execution_count": 22,
   "id": "c13950d5",
   "metadata": {},
   "outputs": [
    {
     "name": "stdout",
     "output_type": "stream",
     "text": [
      "Fitting 3 folds for each of 100 candidates, totalling 300 fits\n"
     ]
    },
    {
     "data": {
      "text/plain": [
       "RandomizedSearchCV(cv=3, estimator=RandomForestClassifier(), n_iter=100,\n",
       "                   param_distributions={'max_depth': [None, 3, 5, 10],\n",
       "                                        'min_samples_leaf': array([ 1,  3,  5,  7,  9, 11, 13, 15, 17, 19]),\n",
       "                                        'min_samples_split': array([ 2,  4,  6,  8, 10, 12, 14, 16, 18]),\n",
       "                                        'n_estimators': array([ 10,  60, 110, 160, 210, 260, 310, 360, 410, 460, 510, 560, 610,\n",
       "       660, 710, 760, 810, 860, 910, 960])},\n",
       "                   verbose=True)"
      ]
     },
     "execution_count": 22,
     "metadata": {},
     "output_type": "execute_result"
    }
   ],
   "source": [
    "#set up random seed\n",
    "np.random.seed(45)\n",
    "\n",
    "#set up random hyperparameter search for forest\n",
    "\n",
    "rs_rf = RandomizedSearchCV(RandomForestClassifier(),\n",
    "                          param_distributions=rf_grid,\n",
    "                          cv = 3,\n",
    "                          n_iter = 100,\n",
    "                          verbose = True)\n",
    "\n",
    "#fit random hyperparameter search model for random forest\n",
    "rs_rf.fit(x_train, y_train)"
   ]
  },
  {
   "cell_type": "markdown",
   "id": "224cddb9",
   "metadata": {},
   "source": [
    "## Hyperparameter tuning with grid search CV\n",
    "I will take the best parameters from the RandomizedSearchCV and tune the model again using GridSearchCV"
   ]
  },
  {
   "cell_type": "code",
   "execution_count": 23,
   "id": "f33e2fe4",
   "metadata": {},
   "outputs": [
    {
     "data": {
      "text/plain": [
       "{'n_estimators': 960,\n",
       " 'min_samples_split': 14,\n",
       " 'min_samples_leaf': 1,\n",
       " 'max_depth': 10}"
      ]
     },
     "execution_count": 23,
     "metadata": {},
     "output_type": "execute_result"
    }
   ],
   "source": [
    "# Find best parameters\n",
    "rs_rf.best_params_"
   ]
  },
  {
   "cell_type": "code",
   "execution_count": 24,
   "id": "63fd4006",
   "metadata": {},
   "outputs": [
    {
     "name": "stdout",
     "output_type": "stream",
     "text": [
      "Fitting 3 folds for each of 9 candidates, totalling 27 fits\n"
     ]
    },
    {
     "data": {
      "text/plain": [
       "GridSearchCV(cv=3, estimator=RandomForestClassifier(),\n",
       "             param_grid={'max_depth': [10], 'min_samples_leaf': [1, 2, 3],\n",
       "                         'min_samples_split': [12, 14, 16],\n",
       "                         'n_estimators': [960]},\n",
       "             verbose=True)"
      ]
     },
     "execution_count": 24,
     "metadata": {},
     "output_type": "execute_result"
    }
   ],
   "source": [
    "#hyper parameters using best parameters\n",
    "rs_rf_grid = {\"n_estimators\":[960],\n",
    "          \"max_depth\": [10],\n",
    "          \"min_samples_split\":[12, 14, 16],\n",
    "          \"min_samples_leaf\": [1, 2, 3]}\n",
    "#set up grid for random forest\n",
    "\n",
    "gs_rs_rf = GridSearchCV(RandomForestClassifier(),\n",
    "                       param_grid = rs_rf_grid,\n",
    "                       cv = 3,\n",
    "                       verbose = True)\n",
    "\n",
    "# fit grid hyperparameter search model\n",
    "gs_rs_rf.fit(x_train, y_train)\n"
   ]
  },
  {
   "cell_type": "code",
   "execution_count": 26,
   "id": "8bab88a2",
   "metadata": {},
   "outputs": [
    {
     "data": {
      "text/plain": [
       "{'max_depth': 10,\n",
       " 'min_samples_leaf': 1,\n",
       " 'min_samples_split': 14,\n",
       " 'n_estimators': 960}"
      ]
     },
     "execution_count": 26,
     "metadata": {},
     "output_type": "execute_result"
    }
   ],
   "source": [
    "gs_rs_rf.best_params_"
   ]
  },
  {
   "cell_type": "code",
   "execution_count": 27,
   "id": "48eba20e",
   "metadata": {},
   "outputs": [
    {
     "data": {
      "text/plain": [
       "0.9436619718309859"
      ]
     },
     "execution_count": 27,
     "metadata": {},
     "output_type": "execute_result"
    }
   ],
   "source": [
    "gs_rs_rf.score(x_test, y_test)"
   ]
  },
  {
   "cell_type": "code",
   "execution_count": 28,
   "id": "93f11df6",
   "metadata": {},
   "outputs": [],
   "source": [
    "#Make predictions with tuned model\n",
    "y_prediction = gs_rs_rf.predict(x_test)"
   ]
  },
  {
   "cell_type": "code",
   "execution_count": 29,
   "id": "fff03c4c",
   "metadata": {},
   "outputs": [
    {
     "data": {
      "text/plain": [
       "array([1, 1, 1, 1, 1, 1, 1, 1, 2, 3, 3, 1, 1, 2, 1, 2, 3, 1, 1, 3, 1, 1,\n",
       "       1, 1, 1, 1, 1, 1, 1, 1, 1, 1, 1, 1, 1, 1, 1, 1, 1, 1, 1, 1, 1, 1,\n",
       "       1, 3, 3, 1, 1, 2, 1, 1, 1, 1, 1, 1, 1, 1, 1, 1, 1, 1, 1, 1, 1, 1,\n",
       "       2, 2, 2, 1, 1, 1, 2, 1, 1, 1, 3, 3, 2, 1, 1, 1, 1, 3, 1, 1, 1, 1,\n",
       "       1, 1, 3, 1, 1, 1, 1, 3, 1, 3, 1, 1, 1, 1, 1, 1, 2, 1, 1, 1, 1, 1,\n",
       "       1, 1, 1, 1, 1, 3, 1, 1, 1, 1, 2, 1, 1, 1, 1, 3, 1, 1, 1, 1, 1, 1,\n",
       "       1, 2, 1, 1, 1, 1, 1, 1, 3, 1, 1, 1, 1, 1, 3, 1, 1, 1, 1, 1, 1, 3,\n",
       "       1, 1, 1, 1, 3, 1, 1, 1, 1, 1, 1, 1, 1, 1, 1, 2, 2, 1, 1, 1, 1, 1,\n",
       "       1, 2, 1, 3, 1, 1, 1, 1, 1, 2, 1, 2, 1, 2, 1, 1, 1, 1, 1, 1, 1, 1,\n",
       "       2, 1, 1, 1, 1, 1, 1, 1, 2, 1, 1, 1, 1, 1, 1, 1, 2, 1, 1, 1, 2, 1,\n",
       "       1, 1, 1, 1, 2, 1, 1, 1, 1, 2, 3, 1, 1, 2, 1, 1, 1, 2, 2, 2, 1, 1,\n",
       "       1, 1, 1, 1, 1, 1, 1, 2, 1, 1, 1, 1, 1, 1, 1, 1, 2, 1, 1, 2, 1, 3,\n",
       "       3, 3, 1, 2, 3, 1, 3, 3, 1, 1, 2, 1, 1, 1, 1, 1, 1, 2, 1, 1, 1, 1,\n",
       "       2, 2, 2, 1, 1, 1, 1, 1, 1, 1, 3, 1, 1, 3, 1, 1, 1, 1, 2, 2, 1, 1,\n",
       "       1, 1, 1, 1, 1, 1, 1, 1, 1, 1, 3, 1, 1, 1, 1, 3, 1, 1, 2, 1, 2, 1,\n",
       "       1, 3, 1, 2, 1, 1, 1, 1, 1, 1, 1, 1, 2, 1, 1, 1, 3, 1, 1, 3, 3, 2,\n",
       "       2, 1, 1, 1, 1, 1, 1, 1, 1, 1, 1, 1, 1, 1, 3, 1, 3, 1, 1, 1, 1, 1,\n",
       "       3, 1, 1, 1, 1, 1, 1, 1, 3, 3, 1, 2, 1, 1, 1, 2, 1, 1, 1, 1, 3, 1,\n",
       "       1, 1, 2, 1, 1, 1, 1, 1, 1, 1, 1, 1, 2, 1, 1, 1, 1, 1, 1, 1, 1, 1,\n",
       "       1, 1, 3, 2, 1, 2, 1, 1], dtype=int64)"
      ]
     },
     "execution_count": 29,
     "metadata": {},
     "output_type": "execute_result"
    }
   ],
   "source": [
    "y_prediction"
   ]
  },
  {
   "cell_type": "code",
   "execution_count": 30,
   "id": "a2a59e6e",
   "metadata": {},
   "outputs": [
    {
     "data": {
      "text/plain": [
       "222     1\n",
       "1743    1\n",
       "1632    1\n",
       "1462    2\n",
       "1847    1\n",
       "       ..\n",
       "663     2\n",
       "1251    1\n",
       "776     2\n",
       "1029    1\n",
       "1095    1\n",
       "Name: fetal_health, Length: 426, dtype: int64"
      ]
     },
     "execution_count": 30,
     "metadata": {},
     "output_type": "execute_result"
    }
   ],
   "source": [
    "y_test"
   ]
  },
  {
   "cell_type": "markdown",
   "id": "7080600c",
   "metadata": {},
   "source": [
    "# Confusion matrix\n",
    "Summary of prediction results"
   ]
  },
  {
   "cell_type": "code",
   "execution_count": 31,
   "id": "442b337a",
   "metadata": {},
   "outputs": [
    {
     "name": "stdout",
     "output_type": "stream",
     "text": [
      "[[322   7   4]\n",
      " [ 12  43   0]\n",
      " [  0   1  37]]\n"
     ]
    }
   ],
   "source": [
    "print(confusion_matrix(y_test, y_prediction))"
   ]
  },
  {
   "cell_type": "code",
   "execution_count": 32,
   "id": "af95898a",
   "metadata": {},
   "outputs": [
    {
     "data": {
      "application/vnd.jupyter.widget-view+json": {
       "model_id": "6ff4bdac198d4135821c5d0f96ccc479",
       "version_major": 2,
       "version_minor": 0
      },
      "image/png": "[encoded data removed]",
      "text/html": [
       "\n",
       "            <div style=\"display: inline-block;\">\n",
       "                <div class=\"jupyter-widgets widget-label\" style=\"text-align: center;\">\n",
       "                    Figure\n",
       "                </div>\n",
       "                <img src='data:image/png;base64,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' width=360.0/>\n",
       "            </div>\n",
       "        "
      ],
      "text/plain": [
       "Canvas(toolbar=Toolbar(toolitems=[('Home', 'Reset original view', 'home', 'home'), ('Back', 'Back to previous …"
      ]
     },
     "metadata": {},
     "output_type": "display_data"
    }
   ],
   "source": [
    "sns.set(font_scale = 1.5)\n",
    "def plot_conf_mat(y_test, y_prediction):\n",
    "    \"\"\"\n",
    "    confusion matrix using seaborn's heatmap\n",
    "    \"\"\"\n",
    "    fig, ax = plt.subplots(figsize = (5,5))\n",
    "    ax = sns.heatmap(confusion_matrix(y_test, y_prediction),\n",
    "                    annot = True,\n",
    "                    cbar = False)\n",
    "    plt.xlabel(\"Predicted label\")\n",
    "    plt.ylabel(\"True label\")\n",
    "    \n",
    "plot_conf_mat(y_test, y_prediction)"
   ]
  },
  {
   "cell_type": "markdown",
   "id": "9a4c4275",
   "metadata": {},
   "source": [
    "# Classification report as well as cross-validated precision, recall and F1 score"
   ]
  },
  {
   "cell_type": "code",
   "execution_count": 33,
   "id": "d5c22939",
   "metadata": {},
   "outputs": [
    {
     "name": "stdout",
     "output_type": "stream",
     "text": [
      "              precision    recall  f1-score   support\n",
      "\n",
      "           1       0.96      0.97      0.97       333\n",
      "           2       0.84      0.78      0.81        55\n",
      "           3       0.90      0.97      0.94        38\n",
      "\n",
      "    accuracy                           0.94       426\n",
      "   macro avg       0.90      0.91      0.90       426\n",
      "weighted avg       0.94      0.94      0.94       426\n",
      "\n"
     ]
    }
   ],
   "source": [
    "print(classification_report(y_test, y_prediction))"
   ]
  },
  {
   "cell_type": "markdown",
   "id": "b5319b78",
   "metadata": {},
   "source": [
    "## Calculate evaluation metrics using cross validation\n",
    "Calculate precision, recall, F1 score using cross validation using 'cross_val_score'"
   ]
  },
  {
   "cell_type": "code",
   "execution_count": 34,
   "id": "2d78298b",
   "metadata": {},
   "outputs": [
    {
     "data": {
      "text/plain": [
       "{'max_depth': 10,\n",
       " 'min_samples_leaf': 1,\n",
       " 'min_samples_split': 14,\n",
       " 'n_estimators': 960}"
      ]
     },
     "execution_count": 34,
     "metadata": {},
     "output_type": "execute_result"
    }
   ],
   "source": [
    "gs_rs_rf.best_params_"
   ]
  },
  {
   "cell_type": "code",
   "execution_count": 35,
   "id": "d5b277ce",
   "metadata": {},
   "outputs": [],
   "source": [
    "#create new classifier with best parameters\n",
    "clf = RandomForestClassifier(max_depth = 10,\n",
    "                            min_samples_leaf = 1,\n",
    "                            min_samples_split = 14,\n",
    "                            n_estimators = 960)"
   ]
  },
  {
   "cell_type": "code",
   "execution_count": 36,
   "id": "5f004767",
   "metadata": {},
   "outputs": [],
   "source": [
    "#saving model to disk to use in web application\n",
    "clf1 = clf.fit(x_train, y_train)\n",
    "pickle.dump(clf1, open('model.pkl', 'wb'))"
   ]
  },
  {
   "cell_type": "code",
   "execution_count": 37,
   "id": "9cd0ab25",
   "metadata": {},
   "outputs": [
    {
     "data": {
      "text/plain": [
       "0.7561725839282294"
      ]
     },
     "execution_count": 37,
     "metadata": {},
     "output_type": "execute_result"
    }
   ],
   "source": [
    "#Cross-validated accuracy\n",
    "cv_acc = cross_val_score(clf, X, y,\n",
    "                        cv = 5,\n",
    "                        scoring = \"balanced_accuracy\")\n",
    "cv_acc = np.mean(cv_acc)\n",
    "cv_acc"
   ]
  },
  {
   "cell_type": "code",
   "execution_count": 38,
   "id": "681f01fc",
   "metadata": {},
   "outputs": [
    {
     "data": {
      "text/plain": [
       "0.880148628004957"
      ]
     },
     "execution_count": 38,
     "metadata": {},
     "output_type": "execute_result"
    }
   ],
   "source": [
    "#Cross-validated precision\n",
    "cv_precision = cross_val_score(clf, X, y,\n",
    "                        cv = 5,\n",
    "                        scoring = \"precision_weighted\")\n",
    "cv_precision = np.mean(cv_precision)\n",
    "\n",
    "cv_precision"
   ]
  },
  {
   "cell_type": "code",
   "execution_count": 39,
   "id": "f997ad8b",
   "metadata": {},
   "outputs": [
    {
     "data": {
      "text/plain": [
       "0.8687677437172052"
      ]
     },
     "execution_count": 39,
     "metadata": {},
     "output_type": "execute_result"
    }
   ],
   "source": [
    "#Cross-validated recall\n",
    "cv_recall = cross_val_score(clf, X, y,\n",
    "                        cv = 5,\n",
    "                        scoring = \"recall_weighted\")\n",
    "cv_recall = np.mean(cv_recall)\n",
    "\n",
    "cv_recall"
   ]
  },
  {
   "cell_type": "code",
   "execution_count": 40,
   "id": "fe5426f0",
   "metadata": {},
   "outputs": [
    {
     "data": {
      "text/plain": [
       "0.7681744574070701"
      ]
     },
     "execution_count": 40,
     "metadata": {},
     "output_type": "execute_result"
    }
   ],
   "source": [
    "#Cross-validated F1 score\n",
    "cv_f1 = cross_val_score(clf, X, y,\n",
    "                        cv = 5,\n",
    "                        scoring = \"f1_macro\")\n",
    "cv_f1 = np.mean(cv_f1)\n",
    "\n",
    "cv_f1"
   ]
  },
  {
   "cell_type": "markdown",
   "id": "b7841554",
   "metadata": {},
   "source": [
    "## Visualize cross validated metrics"
   ]
  },
  {
   "cell_type": "code",
   "execution_count": null,
   "id": "d92c0fa9",
   "metadata": {},
   "outputs": [],
   "source": [
    "%matplotlib widget\n",
    "#visualize cross-validated metrics\n",
    "cv_metrics = pd.DataFrame({\"Accuracy\": cv_acc,\n",
    "                          \"Precision\": cv_precision,\n",
    "                          \"Recall\": cv_recall,\n",
    "                          \"F1\": cv_f1},\n",
    "                         index=[0])\n",
    "\n",
    "cv_metrics.T.plot.bar(title = \"Cross-validated Classification Metrics\",\n",
    "                     legend = False);"
   ]
  },
  {
   "cell_type": "markdown",
   "id": "217ed6a0",
   "metadata": {},
   "source": [
    "## Feature Importance\n",
    "Which features contributed most to the outcomes and how"
   ]
  },
  {
   "cell_type": "code",
   "execution_count": 42,
   "id": "f355dce2",
   "metadata": {},
   "outputs": [
    {
     "data": {
      "text/plain": [
       "array([0.03196125, 0.05475252, 0.01721361, 0.03587916, 0.00574023,\n",
       "       0.00097533, 0.05113591, 0.13354234, 0.14334264, 0.12819081,\n",
       "       0.03698547, 0.03277681, 0.03637406, 0.02257988, 0.01497563,\n",
       "       0.00322629, 0.05831617, 0.10176986, 0.05420723, 0.03117703,\n",
       "       0.00487778])"
      ]
     },
     "execution_count": 42,
     "metadata": {},
     "output_type": "execute_result"
    }
   ],
   "source": [
    "clf.feature_importances_"
   ]
  },
  {
   "cell_type": "code",
   "execution_count": 43,
   "id": "8be392c7",
   "metadata": {},
   "outputs": [
    {
     "data": {
      "application/vnd.jupyter.widget-view+json": {
       "model_id": "a46deba9562a437cac9624bb7fad2c63",
       "version_major": 2,
       "version_minor": 0
      },
      "image/png": "[encoded data removed]",
      "text/html": [
       "\n",
       "            <div style=\"display: inline-block;\">\n",
       "                <div class=\"jupyter-widgets widget-label\" style=\"text-align: center;\">\n",
       "                    Figure\n",
       "                </div>\n",
       "                <img src='data:image/png;base64,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' width=1440.0/>\n",
       "            </div>\n",
       "        "
      ],
      "text/plain": [
       "Canvas(toolbar=Toolbar(toolitems=[('Home', 'Reset original view', 'home', 'home'), ('Back', 'Back to previous …"
      ]
     },
     "metadata": {},
     "output_type": "display_data"
    }
   ],
   "source": [
    "%matplotlib widget\n",
    "plt.figure(figsize=(20,5))\n",
    "plt.bar(range(len(clf.feature_importances_)), clf.feature_importances_)\n",
    "plt.xticks(np.arange(0, 21,  1))\n",
    "plt.title(\"Feature Importance\")\n",
    "plt.show()"
   ]
  },
  {
   "cell_type": "code",
   "execution_count": null,
   "id": "bc891212",
   "metadata": {},
   "outputs": [
    {
     "name": "stdout",
     "output_type": "stream",
     "text": [
      " * Serving Flask app '__main__' (lazy loading)\n",
      " * Environment: production\n",
      "\u001b[31m   WARNING: This is a development server. Do not use it in a production deployment.\u001b[0m\n",
      "\u001b[2m   Use a production WSGI server instead.\u001b[0m\n",
      " * Debug mode: off\n"
     ]
    },
    {
     "name": "stderr",
     "output_type": "stream",
     "text": [
      " * Running on http://127.0.0.1:5000/ (Press CTRL+C to quit)\n",
      "127.0.0.1 - - [15/Feb/2022 16:16:30] \"GET / HTTP/1.1\" 200 -\n",
      "127.0.0.1 - - [15/Feb/2022 16:16:30] \"GET /static/bootstrap.min.css HTTP/1.1\" 404 -\n",
      "127.0.0.1 - - [15/Feb/2022 16:16:50] \"POST / HTTP/1.1\" 200 -\n",
      "127.0.0.1 - - [15/Feb/2022 16:16:51] \"GET /static/bootstrap.min.css HTTP/1.1\" 404 -\n",
      "127.0.0.1 - - [15/Feb/2022 16:16:56] \"POST / HTTP/1.1\" 200 -\n",
      "127.0.0.1 - - [15/Feb/2022 16:16:56] \"GET /static/bootstrap.min.css HTTP/1.1\" 404 -\n",
      "127.0.0.1 - - [15/Feb/2022 16:16:58] \"POST / HTTP/1.1\" 200 -\n",
      "127.0.0.1 - - [15/Feb/2022 16:16:58] \"GET /static/bootstrap.min.css HTTP/1.1\" 404 -\n",
      "127.0.0.1 - - [15/Feb/2022 16:17:12] \"POST / HTTP/1.1\" 302 -\n",
      "127.0.0.1 - - [15/Feb/2022 16:17:13] \"GET /home HTTP/1.1\" 200 -\n",
      "127.0.0.1 - - [15/Feb/2022 16:17:13] \"GET /static/css/style.css HTTP/1.1\" 304 -\n",
      "127.0.0.1 - - [15/Feb/2022 16:27:56] \"GET / HTTP/1.1\" 200 -\n",
      "127.0.0.1 - - [15/Feb/2022 16:27:57] \"GET /static/bootstrap.min.css HTTP/1.1\" 404 -\n",
      "127.0.0.1 - - [15/Feb/2022 16:28:03] \"POST / HTTP/1.1\" 302 -\n",
      "127.0.0.1 - - [15/Feb/2022 16:28:03] \"GET /home HTTP/1.1\" 200 -\n",
      "127.0.0.1 - - [15/Feb/2022 16:28:03] \"GET /static/css/style.css HTTP/1.1\" 304 -\n",
      "C:\\Users\\Darya\\Desktop\\classification_project\\env\\lib\\site-packages\\sklearn\\base.py:450: UserWarning: X does not have valid feature names, but RandomForestClassifier was fitted with feature names\n",
      "  warnings.warn(\n",
      "127.0.0.1 - - [15/Feb/2022 16:28:22] \"POST /predict HTTP/1.1\" 200 -\n",
      "127.0.0.1 - - [15/Feb/2022 16:28:22] \"GET /static/css/style.css HTTP/1.1\" 304 -\n"
     ]
    }
   ],
   "source": [
    "import numpy as np\n",
    "from flask import Flask, request, jsonify, render_template, redirect, url_for, request\n",
    "import pickle\n",
    "import pandas as pd\n",
    "app = Flask(__name__)\n",
    "import numpy as np\n",
    "\n",
    "\n",
    "\n",
    "model = pickle.load(open('model.pkl', 'rb'))\n",
    "\n",
    "\n",
    "app = Flask(__name__)\n",
    "\n",
    "\n",
    "@app.route('/', methods=['GET', 'POST'])\n",
    "def login():\n",
    "    error = None\n",
    "    if request.method == 'POST':\n",
    "        if request.form['username'] != 'admin' or request.form['password'] != 'admin':\n",
    "            error = 'Invalid Credentials. Please try again.'\n",
    "        else:\n",
    "            return redirect(url_for('home'))\n",
    "    return render_template('login.html', error=error)\n",
    "                    \n",
    "@app.route('/home')\n",
    "def home():\n",
    "    return render_template('index.html')\n",
    "\n",
    "@app.route('/visualizations')\n",
    "def visualizations():\n",
    "    return redirect('https://notebooks.gesis.org/binder/jupyter/user/daryakrutyeva-c-ficationjupyter-ym8l0gz1/lab/tree/Fetal%20health%20classification.ipynb')\n",
    "\n",
    "@app.route('/predict',methods=['POST'])\n",
    "def predict():\n",
    "    '''\n",
    "    For rendering results on HTML GUI\n",
    "    '''\n",
    "    int_features = [int(x) for x in request.form.values()]\n",
    "    final_features = [np.array(int_features)]\n",
    "    prediction = model.predict(final_features)\n",
    "\n",
    "    output = round(prediction[0], 21)\n",
    "\n",
    "    return render_template('index.html', prediction_text='The baby is {}, 1 = Healthy, 2 = Suspect, 3 = Pathological'.format(output))\n",
    "\n",
    "if __name__ == \"__main__\":\n",
    "    app.run()"
   ]
  },
  {
   "cell_type": "code",
   "execution_count": null,
   "id": "51d99f01",
   "metadata": {},
   "outputs": [],
   "source": []
  },
  {
   "cell_type": "code",
   "execution_count": null,
   "id": "a0a1711a",
   "metadata": {},
   "outputs": [],
   "source": []
  },
  {
   "cell_type": "code",
   "execution_count": null,
   "id": "1767badd",
   "metadata": {},
   "outputs": [],
   "source": []
  },
  {
   "cell_type": "code",
   "execution_count": null,
   "id": "c3bd7742",
   "metadata": {},
   "outputs": [],
   "source": []
  },
  {
   "cell_type": "code",
   "execution_count": null,
   "id": "222c03e5",
   "metadata": {},
   "outputs": [],
   "source": []
  }
 ],
 "metadata": {
  "kernelspec": {
   "display_name": "Python 3 (ipykernel)",
   "language": "python",
   "name": "python3"
  },
  "language_info": {
   "codemirror_mode": {
    "name": "ipython",
    "version": 3
   },
   "file_extension": ".py",
   "mimetype": "text/x-python",
   "name": "python",
   "nbconvert_exporter": "python",
   "pygments_lexer": "ipython3",
   "version": "3.9.7"
  }
 },
 "nbformat": 4,
 "nbformat_minor": 5
}
